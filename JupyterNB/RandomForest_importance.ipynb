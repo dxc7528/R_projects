{
 "cells": [
  {
   "cell_type": "code",
   "execution_count": 4,
   "metadata": {},
   "outputs": [
    {
     "name": "stderr",
     "output_type": "stream",
     "text": [
      "Warning message:\n",
      "\"package 'inTrees' was built under R version 3.4.2\""
     ]
    }
   ],
   "source": [
    "library(\"randomForest\")#分析用パッケージ\n",
    "library(\"inTrees\")#結果出力用のパッケージ"
   ]
  },
  {
   "cell_type": "code",
   "execution_count": 5,
   "metadata": {
    "collapsed": true
   },
   "outputs": [],
   "source": [
    "num_train<-sample(nrow(iris),100)#学習用データをサンプリング\n",
    "num_test <-sample(nrow(iris),50)#テスト用データをサンプリング"
   ]
  },
  {
   "cell_type": "code",
   "execution_count": 6,
   "metadata": {
    "collapsed": true
   },
   "outputs": [],
   "source": [
    "train_iris<-iris[num_train,]\n",
    "test_iris <-iris[num_test,] #チューニング"
   ]
  },
  {
   "cell_type": "code",
   "execution_count": 8,
   "metadata": {},
   "outputs": [
    {
     "name": "stdout",
     "output_type": "stream",
     "text": [
      "mtry = 2  OOB error = 6% \n",
      "Searching left ...\n",
      "mtry = 1 \tOOB error = 6% \n",
      "0 0.05 \n",
      "Searching right ...\n",
      "mtry = 4 \tOOB error = 6% \n",
      "0 0.05 \n"
     ]
    },
    {
     "data": {
      "text/html": [
       "<table>\n",
       "<thead><tr><th></th><th scope=col>mtry</th><th scope=col>OOBError</th></tr></thead>\n",
       "<tbody>\n",
       "\t<tr><th scope=row>1.OOB</th><td>1   </td><td>0.06</td></tr>\n",
       "\t<tr><th scope=row>2.OOB</th><td>2   </td><td>0.06</td></tr>\n",
       "\t<tr><th scope=row>4.OOB</th><td>4   </td><td>0.06</td></tr>\n",
       "</tbody>\n",
       "</table>\n"
      ],
      "text/latex": [
       "\\begin{tabular}{r|ll}\n",
       "  & mtry & OOBError\\\\\n",
       "\\hline\n",
       "\t1.OOB & 1    & 0.06\\\\\n",
       "\t2.OOB & 2    & 0.06\\\\\n",
       "\t4.OOB & 4    & 0.06\\\\\n",
       "\\end{tabular}\n"
      ],
      "text/markdown": [
       "\n",
       "| <!--/--> | mtry | OOBError | \n",
       "|---|---|---|\n",
       "| 1.OOB | 1    | 0.06 | \n",
       "| 2.OOB | 2    | 0.06 | \n",
       "| 4.OOB | 4    | 0.06 | \n",
       "\n",
       "\n"
      ],
      "text/plain": [
       "      mtry OOBError\n",
       "1.OOB 1    0.06    \n",
       "2.OOB 2    0.06    \n",
       "4.OOB 4    0.06    "
      ]
     },
     "metadata": {},
     "output_type": "display_data"
    },
    {
     "data": {
      "image/png": "[encoded data removed]",
      "text/plain": [
       "plot without title"
      ]
     },
     "metadata": {},
     "output_type": "display_data"
    }
   ],
   "source": [
    "tuneRF(train_iris[,-5],train_iris$Species,plot = TRUE, doBest = FALSE)"
   ]
  },
  {
   "cell_type": "code",
   "execution_count": 9,
   "metadata": {
    "collapsed": true
   },
   "outputs": [],
   "source": [
    "rf <- randomForest(Species ~., data=train_iris, mtry=2, ntree = 500, predict.all=TRUE)\n",
    "#予測・分類器の構築"
   ]
  },
  {
   "cell_type": "code",
   "execution_count": 10,
   "metadata": {
    "collapsed": true
   },
   "outputs": [],
   "source": [
    "result <- predict(rf, newdata=test_iris[-5],predict.all=TRUE)\n",
    "#構築した分類器で、分類対象のデータを分類 "
   ]
  },
  {
   "cell_type": "code",
   "execution_count": 12,
   "metadata": {},
   "outputs": [
    {
     "data": {
      "text/plain": [
       "            \n",
       "             setosa versicolor virginica\n",
       "  setosa         13          0         0\n",
       "  versicolor      0         16         1\n",
       "  virginica       0          0        20"
      ]
     },
     "metadata": {},
     "output_type": "display_data"
    }
   ],
   "source": [
    "#結果の出力（分類結果の表）#縦軸がテスト用データ、横軸が分析結果\n",
    "(table(test_iris$Species, result$aggregate)->res)"
   ]
  },
  {
   "cell_type": "code",
   "execution_count": 13,
   "metadata": {},
   "outputs": [
    {
     "data": {
      "text/html": [
       "0.98"
      ],
      "text/latex": [
       "0.98"
      ],
      "text/markdown": [
       "0.98"
      ],
      "text/plain": [
       "[1] 0.98"
      ]
     },
     "metadata": {},
     "output_type": "display_data"
    }
   ],
   "source": [
    "sum(diag(res)/sum(res))"
   ]
  },
  {
   "cell_type": "code",
   "execution_count": 14,
   "metadata": {},
   "outputs": [
    {
     "data": {
      "image/png": "[encoded data removed]",
      "text/plain": [
       "Plot with title \"rf\""
      ]
     },
     "metadata": {},
     "output_type": "display_data"
    }
   ],
   "source": [
    "varImpPlot(rf)#重要度のグラフ"
   ]
  },
  {
   "cell_type": "code",
   "execution_count": 15,
   "metadata": {},
   "outputs": [
    {
     "data": {
      "text/html": [
       "<table>\n",
       "<thead><tr><th></th><th scope=col>MeanDecreaseGini</th></tr></thead>\n",
       "<tbody>\n",
       "\t<tr><th scope=row>Sepal.Length</th><td> 6.878118</td></tr>\n",
       "\t<tr><th scope=row>Sepal.Width</th><td> 1.635344</td></tr>\n",
       "\t<tr><th scope=row>Petal.Length</th><td>30.111724</td></tr>\n",
       "\t<tr><th scope=row>Petal.Width</th><td>27.298014</td></tr>\n",
       "</tbody>\n",
       "</table>\n"
      ],
      "text/latex": [
       "\\begin{tabular}{r|l}\n",
       "  & MeanDecreaseGini\\\\\n",
       "\\hline\n",
       "\tSepal.Length &  6.878118\\\\\n",
       "\tSepal.Width &  1.635344\\\\\n",
       "\tPetal.Length & 30.111724\\\\\n",
       "\tPetal.Width & 27.298014\\\\\n",
       "\\end{tabular}\n"
      ],
      "text/markdown": [
       "\n",
       "| <!--/--> | MeanDecreaseGini | \n",
       "|---|---|---|---|\n",
       "| Sepal.Length |  6.878118 | \n",
       "| Sepal.Width |  1.635344 | \n",
       "| Petal.Length | 30.111724 | \n",
       "| Petal.Width | 27.298014 | \n",
       "\n",
       "\n"
      ],
      "text/plain": [
       "             MeanDecreaseGini\n",
       "Sepal.Length  6.878118       \n",
       "Sepal.Width   1.635344       \n",
       "Petal.Length 30.111724       \n",
       "Petal.Width  27.298014       "
      ]
     },
     "metadata": {},
     "output_type": "display_data"
    }
   ],
   "source": [
    "rf$importance#重要度をコンソールに出力"
   ]
  },
  {
   "cell_type": "code",
   "execution_count": 16,
   "metadata": {
    "collapsed": true
   },
   "outputs": [],
   "source": [
    "# 分類ルールを抽出してみる"
   ]
  },
  {
   "cell_type": "code",
   "execution_count": 17,
   "metadata": {
    "collapsed": true
   },
   "outputs": [],
   "source": [
    "treeList <- RF2List(rf)\n",
    "#すべてのtreeの木構造を取得（getTree()する）"
   ]
  },
  {
   "cell_type": "code",
   "execution_count": 18,
   "metadata": {},
   "outputs": [
    {
     "name": "stdout",
     "output_type": "stream",
     "text": [
      "3454 rules (length<=6) were extracted from the first 500 trees.\n"
     ]
    }
   ],
   "source": [
    "exec <- extractRules(treeList,train_iris,ntree=500)\n",
    "#決定木に含まれる条件文を抽出"
   ]
  },
  {
   "cell_type": "code",
   "execution_count": 19,
   "metadata": {
    "collapsed": true
   },
   "outputs": [],
   "source": [
    "ruleMetric <- getRuleMetric(exec,train_iris,train_iris$Species)\n",
    "#取り出した条件文を集計"
   ]
  },
  {
   "cell_type": "code",
   "execution_count": 20,
   "metadata": {
    "collapsed": true
   },
   "outputs": [],
   "source": [
    "ruleMetric <- pruneRule(ruleMetric,train_iris,train_iris$Species)\n",
    "#余計な条件を削除"
   ]
  },
  {
   "cell_type": "code",
   "execution_count": 21,
   "metadata": {
    "collapsed": true
   },
   "outputs": [],
   "source": [
    "ruleMetric <- selectRuleRRF(ruleMetric,train_iris,train_iris$Species)\n",
    "#条件文を集約"
   ]
  },
  {
   "cell_type": "code",
   "execution_count": 22,
   "metadata": {
    "collapsed": true
   },
   "outputs": [],
   "source": [
    "learner <- buildLearner(ruleMetric,train_iris,train_iris$Species,minFreq=0.01)\n",
    "#レアな（発生頻度の低い）ルールを切り落とし、1本に集約"
   ]
  },
  {
   "cell_type": "code",
   "execution_count": 23,
   "metadata": {
    "collapsed": true
   },
   "outputs": [],
   "source": [
    "readableRules <- presentRules(learner,colnames(train_iris))\n",
    "#ルールを読みやすく加工"
   ]
  },
  {
   "cell_type": "code",
   "execution_count": 24,
   "metadata": {},
   "outputs": [
    {
     "data": {
      "text/html": [
       "<table>\n",
       "<thead><tr><th scope=col>len</th><th scope=col>freq</th><th scope=col>err</th><th scope=col>condition</th><th scope=col>pred</th></tr></thead>\n",
       "<tbody>\n",
       "\t<tr><td>3                                                                        </td><td>0.31                                                                     </td><td><span style=white-space:pre-wrap>0                </span>                </td><td>Petal.Length&gt;2.6 &amp; Petal.Length&lt;=4.85 &amp; Petal.Width&lt;=1.6</td><td>versicolor                                                               </td></tr>\n",
       "\t<tr><td>3                                                                        </td><td>0.02                                                                     </td><td><span style=white-space:pre-wrap>0                </span>                </td><td>Sepal.Length&lt;=6.1 &amp; Sepal.Length&gt;5.85 &amp; Petal.Width&gt;1.55</td><td>versicolor                                                               </td></tr>\n",
       "\t<tr><td>1                                                       </td><td>0.67                                                    </td><td>0.477611940298508                                       </td><td>Else                                                    </td><td>setosa                                                  </td></tr>\n",
       "</tbody>\n",
       "</table>\n"
      ],
      "text/latex": [
       "\\begin{tabular}{lllll}\n",
       " len & freq & err & condition & pred\\\\\n",
       "\\hline\n",
       "\t 3                                                            & 0.31                                                         & 0                                                            & Petal.Length>2.6 \\& Petal.Length<=4.85 \\& Petal.Width<=1.6 & versicolor                                                  \\\\\n",
       "\t 3                                                            & 0.02                                                         & 0                                                            & Sepal.Length<=6.1 \\& Sepal.Length>5.85 \\& Petal.Width>1.55 & versicolor                                                  \\\\\n",
       "\t 1                                                        & 0.67                                                     & 0.477611940298508                                        & Else                                                     & setosa                                                  \\\\\n",
       "\\end{tabular}\n"
      ],
      "text/markdown": [
       "\n",
       "len | freq | err | condition | pred | \n",
       "|---|---|---|\n",
       "| 3                                                        | 0.31                                                     | 0                                                        | Petal.Length>2.6 & Petal.Length<=4.85 & Petal.Width<=1.6 | versicolor                                               | \n",
       "| 3                                                        | 0.02                                                     | 0                                                        | Sepal.Length<=6.1 & Sepal.Length>5.85 & Petal.Width>1.55 | versicolor                                               | \n",
       "| 1                                                        | 0.67                                                     | 0.477611940298508                                        | Else                                                     | setosa                                                   | \n",
       "\n",
       "\n"
      ],
      "text/plain": [
       "     len freq err              \n",
       "[1,] 3   0.31 0                \n",
       "[2,] 3   0.02 0                \n",
       "[3,] 1   0.67 0.477611940298508\n",
       "     condition                                                pred      \n",
       "[1,] Petal.Length>2.6 & Petal.Length<=4.85 & Petal.Width<=1.6 versicolor\n",
       "[2,] Sepal.Length<=6.1 & Sepal.Length>5.85 & Petal.Width>1.55 versicolor\n",
       "[3,] Else                                                     setosa    "
      ]
     },
     "metadata": {},
     "output_type": "display_data"
    }
   ],
   "source": [
    "readableRules#結果の表示"
   ]
  },
  {
   "cell_type": "code",
   "execution_count": null,
   "metadata": {
    "collapsed": true
   },
   "outputs": [],
   "source": [
    "# ランダムフォレストは決定木のようにグラフィカルに表現できないのが欠点ですが、\n",
    "# これでルールは読み解くことができます。"
   ]
  }
 ],
 "metadata": {
  "kernelspec": {
   "display_name": "R",
   "language": "R",
   "name": "ir"
  },
  "language_info": {
   "codemirror_mode": "r",
   "file_extension": ".r",
   "mimetype": "text/x-r-source",
   "name": "R",
   "pygments_lexer": "r",
   "version": "3.4.1"
  }
 },
 "nbformat": 4,
 "nbformat_minor": 2
}
