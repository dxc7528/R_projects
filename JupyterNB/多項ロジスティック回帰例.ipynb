{
 "cells": [
  {
   "cell_type": "code",
   "execution_count": 1,
   "metadata": {
    "collapsed": true
   },
   "outputs": [],
   "source": [
    "library(nnet)"
   ]
  },
  {
   "cell_type": "code",
   "execution_count": 3,
   "metadata": {},
   "outputs": [
    {
     "name": "stdout",
     "output_type": "stream",
     "text": [
      "# weights:  18 (10 variable)\n",
      "initial  value 164.791843 \n",
      "iter  10 value 16.177348\n",
      "iter  20 value 7.111438\n",
      "iter  30 value 6.182999\n",
      "iter  40 value 5.984028\n",
      "iter  50 value 5.961278\n",
      "iter  60 value 5.954900\n",
      "iter  70 value 5.951851\n",
      "iter  80 value 5.950343\n",
      "iter  90 value 5.949904\n",
      "iter 100 value 5.949867\n",
      "final  value 5.949867 \n",
      "stopped after 100 iterations\n"
     ]
    }
   ],
   "source": [
    "m.log <- multinom(Species~.,data=iris)"
   ]
  },
  {
   "cell_type": "code",
   "execution_count": 4,
   "metadata": {},
   "outputs": [
    {
     "data": {
      "text/plain": [
       "Call:\n",
       "multinom(formula = Species ~ ., data = iris)\n",
       "\n",
       "Coefficients:\n",
       "           (Intercept) Sepal.Length Sepal.Width Petal.Length Petal.Width\n",
       "versicolor    18.69037    -5.458424   -8.707401     14.24477   -3.097684\n",
       "virginica    -23.83628    -7.923634  -15.370769     23.65978   15.135301\n",
       "\n",
       "Std. Errors:\n",
       "           (Intercept) Sepal.Length Sepal.Width Petal.Length Petal.Width\n",
       "versicolor    34.97116     89.89215    157.0415     60.19170    45.48852\n",
       "virginica     35.76649     89.91153    157.1196     60.46753    45.93406\n",
       "\n",
       "Residual Deviance: 11.89973 \n",
       "AIC: 31.89973 "
      ]
     },
     "metadata": {},
     "output_type": "display_data"
    }
   ],
   "source": [
    "summary(m.log)"
   ]
  },
  {
   "cell_type": "code",
   "execution_count": null,
   "metadata": {
    "collapsed": true
   },
   "outputs": [],
   "source": []
  }
 ],
 "metadata": {
  "kernelspec": {
   "display_name": "R",
   "language": "R",
   "name": "ir"
  },
  "language_info": {
   "codemirror_mode": "r",
   "file_extension": ".r",
   "mimetype": "text/x-r-source",
   "name": "R",
   "pygments_lexer": "r",
   "version": "3.4.1"
  }
 },
 "nbformat": 4,
 "nbformat_minor": 2
}
